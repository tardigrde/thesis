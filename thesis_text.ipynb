{
  "cells": [
    {
      "cell_type": "markdown",
      "metadata": {
        "collapsed": true,
        "pycharm": {
          "name": "#%% md\n"
        }
      },
      "source": "### **Pont objektum**\n"
    },
    {
      "cell_type": "markdown",
      "source": "- **IDŐ**: *\u003ca mérés időpontja miliszekundumban kifejezve\u003e,*\n- **X**: *\u003ca pont X koordinátája EOV rendszerben\u003e,*\n- **Y**: *\u003ca pont Y koordinátája EOV rendszerben\u003e,*\n- **HDOP**: *\u003ca GPS mérés horizontális hibahatára\u003e,*\n- **GYORSULÁS**: \n    - **X**: *\u003ccca. 100 elemből álló lista\u003e,*\n    - **Y**: *\u003ccca. 100 elemből álló lista\u003e,*\n    - **Z**: *\u003ccca. 100 elemből álló lista\u003e,*",
      "metadata": {
        "pycharm": {
          "metadata": false,
          "name": "#%% md\n"
        }
      }
    },
    {
      "cell_type": "markdown",
      "source": "",
      "metadata": {
        "pycharm": {
          "metadata": false
        }
      }
    }
  ],
  "metadata": {
    "language_info": {
      "codemirror_mode": {
        "name": "ipython",
        "version": 2
      },
      "file_extension": ".py",
      "mimetype": "text/x-python",
      "name": "python",
      "nbconvert_exporter": "python",
      "pygments_lexer": "ipython2",
      "version": "2.7.6"
    },
    "kernelspec": {
      "name": "python3",
      "language": "python",
      "display_name": "Python 3"
    }
  },
  "nbformat": 4,
  "nbformat_minor": 0
}
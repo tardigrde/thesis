{
  "cells": [
    {
      "cell_type": "markdown",
      "metadata": {
        "collapsed": true,
        "pycharm": {
          "name": "#%% md\n"
        }
      },
      "source": "# Experiments on downward accelearation axis\n"
    },
    {
      "cell_type": "code",
      "execution_count": 1,
      "outputs": [],
      "source": "import pandas as pd\nimport matplotlib\nimport numpy as np\nimport matplotlib.pyplot as plt\n%matplotlib inline\n",
      "metadata": {
        "pycharm": {
          "metadata": false,
          "name": "#%%\n",
          "is_executing": false
        }
      }
    },
    {
      "cell_type": "code",
      "execution_count": 3,
      "outputs": [
        {
          "data": {
            "text/plain": "      _time  acc_down\n0  59900520 -0.041439\n1  59900529 -0.034107\n2  59900540 -0.022742\n3  59900549 -0.010080\n4  59900559  0.001080",
            "text/html": "\u003cdiv\u003e\n\u003cstyle scoped\u003e\n    .dataframe tbody tr th:only-of-type {\n        vertical-align: middle;\n    }\n\n    .dataframe tbody tr th {\n        vertical-align: top;\n    }\n\n    .dataframe thead th {\n        text-align: right;\n    }\n\u003c/style\u003e\n\u003ctable border\u003d\"1\" class\u003d\"dataframe\"\u003e\n  \u003cthead\u003e\n    \u003ctr style\u003d\"text-align: right;\"\u003e\n      \u003cth\u003e\u003c/th\u003e\n      \u003cth\u003e_time\u003c/th\u003e\n      \u003cth\u003eacc_down\u003c/th\u003e\n    \u003c/tr\u003e\n  \u003c/thead\u003e\n  \u003ctbody\u003e\n    \u003ctr\u003e\n      \u003cth\u003e0\u003c/th\u003e\n      \u003ctd\u003e59900520\u003c/td\u003e\n      \u003ctd\u003e-0.041439\u003c/td\u003e\n    \u003c/tr\u003e\n    \u003ctr\u003e\n      \u003cth\u003e1\u003c/th\u003e\n      \u003ctd\u003e59900529\u003c/td\u003e\n      \u003ctd\u003e-0.034107\u003c/td\u003e\n    \u003c/tr\u003e\n    \u003ctr\u003e\n      \u003cth\u003e2\u003c/th\u003e\n      \u003ctd\u003e59900540\u003c/td\u003e\n      \u003ctd\u003e-0.022742\u003c/td\u003e\n    \u003c/tr\u003e\n    \u003ctr\u003e\n      \u003cth\u003e3\u003c/th\u003e\n      \u003ctd\u003e59900549\u003c/td\u003e\n      \u003ctd\u003e-0.010080\u003c/td\u003e\n    \u003c/tr\u003e\n    \u003ctr\u003e\n      \u003cth\u003e4\u003c/th\u003e\n      \u003ctd\u003e59900559\u003c/td\u003e\n      \u003ctd\u003e0.001080\u003c/td\u003e\n    \u003c/tr\u003e\n  \u003c/tbody\u003e\n\u003c/table\u003e\n\u003c/div\u003e"
          },
          "metadata": {},
          "output_type": "execute_result",
          "execution_count": 3
        }
      ],
      "source": "path \u003d r\u0027D:\\code\\PyCharmProjects\\thesis\\data\\trolli_playground\\acc_data\\acc_data.csv\u0027\ndf \u003d pd.DataFrame(pd.read_csv(path,sep\u003d\u0027,\u0027))\ndf.columns \u003d [\u0027_time\u0027, \u0027acc_down\u0027]\ndf.head()\n",
      "metadata": {
        "pycharm": {
          "metadata": false,
          "name": "#%%\n",
          "is_executing": false
        }
      }
    },
    {
      "cell_type": "code",
      "execution_count": 4,
      "outputs": [
        {
          "data": {
            "text/plain": "10497"
          },
          "metadata": {},
          "output_type": "execute_result",
          "execution_count": 4
        }
      ],
      "source": "downs \u003d df[\u0027acc_down\u0027].tolist()\n_time \u003d df [\u0027_time\u0027].tolist()\nlength \u003d len(_time) if len(_time) \u003d\u003d len(downs) else print(\u0027PROBLEM\u0027)\nlength\n",
      "metadata": {
        "pycharm": {
          "metadata": false,
          "name": "#%%\n",
          "is_executing": false
        }
      }
    },
    {
      "cell_type": "code",
      "execution_count": 5,
      "outputs": [
        {
          "data": {
            "text/plain": "\u003cFigure size 432x288 with 1 Axes\u003e",
            "image/png": "[encoded data removed]"
          },
          "metadata": {
            "needs_background": "light"
          },
          "output_type": "display_data"
        }
      ],
      "source": "plt.plot(downs)\nplt.xlabel(\u0027Times\u0027)\nplt.ylabel(\u0027G\u0027)\nplt.show()\n",
      "metadata": {
        "pycharm": {
          "metadata": false,
          "name": "#%%\n",
          "is_executing": false
        }
      }
    },
    {
      "cell_type": "markdown",
      "source": "##### What we wanna do now?\n\nWe have multiple requirements. \nFirst we want to represent the down values in Hz (frequency), rather than g force.\nThen we would apply some techniques that can identify potholes.\n\nTechniques like: \n- z threshold\n- z diff\n- std dev of windows\n- maybe accounting all three axes.\n\nOkay, let\u0027s say, we have used these techniques. What to do then?\nOur priority number one is not just to have potholes extracted from a signal, relative to\nother data points in the signal, but we have to know when that signal exactly happened.\nIt is important for us to know when that measurement exactly happened, so we can map these \ntheoretical potholes back to the real world, that is represent them on a map.\n\nWe don\u0027t really have to know the exact position of accleration measurement or even the theoretical pothole,\nas we have timestamps attached to both the acceleration signals and the points of the gps track.\nMapping back to the physical world then only requires that we know the exact timestamp of a accleration measurement.\n\nBut first let us investigate the properies of out signal.\nOkay. Let\u0027s start off with something very simple. \nWhen we drive over a pothole happens it\u0027s a high energy event, which is represented by\nhigh and/or low peaks in the acc data.\n\nLet\u0027s just count the average of the signal first.\n\nNote: the values of the acceleration singal is in G (9.81m/s^2)\n",
      "metadata": {
        "pycharm": {
          "metadata": false,
          "name": "#%% md\n"
        }
      }
    },
    {
      "cell_type": "code",
      "execution_count": 6,
      "outputs": [
        {
          "data": {
            "text/plain": "0.00664729630103349"
          },
          "metadata": {},
          "output_type": "execute_result",
          "execution_count": 6
        }
      ],
      "source": "avg \u003d sum(downs)/length\navg\n",
      "metadata": {
        "pycharm": {
          "metadata": false,
          "name": "#%%\n",
          "is_executing": false
        }
      }
    },
    {
      "cell_type": "markdown",
      "source": "So as we can see the avg is very close to 0 which is what we expect anyway.\nLet\u0027s have the standard deviation of our signal as well.\n",
      "metadata": {
        "pycharm": {
          "metadata": false,
          "name": "#%% md\n"
        }
      }
    },
    {
      "cell_type": "code",
      "execution_count": 7,
      "outputs": [
        {
          "data": {
            "text/plain": "0.048615364336357755"
          },
          "metadata": {},
          "output_type": "execute_result",
          "execution_count": 7
        }
      ],
      "source": "std \u003d np.std(downs)\nstd\n",
      "metadata": {
        "pycharm": {
          "metadata": false,
          "name": "#%%\n",
          "is_executing": false
        }
      }
    },
    {
      "cell_type": "markdown",
      "source": "Okay. Not a very useful piece of information, but let\u0027s go on. Later std dev will have a central role.\n\nLet\u0027s find the max and min of the signal.\n",
      "metadata": {
        "pycharm": {
          "metadata": false,
          "name": "#%% md\n"
        }
      }
    },
    {
      "cell_type": "code",
      "execution_count": 8,
      "outputs": [
        {
          "name": "stdout",
          "text": [
            "max:  0.3666001017350895\nmin:  -0.33183568220156023\n"
          ],
          "output_type": "stream"
        }
      ],
      "source": "max_value \u003d max(downs)\nmin_value \u003d min(downs)\nprint(\u0027max: \u0027,max_value)\nprint(\u0027min: \u0027,min_value)\n",
      "metadata": {
        "pycharm": {
          "metadata": false,
          "name": "#%%\n",
          "is_executing": false
        }
      }
    },
    {
      "cell_type": "markdown",
      "source": "Now let\u0027s see how many measurements are between -0.1 and 0.1 Gs\n",
      "metadata": {
        "pycharm": {
          "metadata": false,
          "name": "#%% md\n"
        }
      }
    },
    {
      "cell_type": "code",
      "execution_count": 9,
      "outputs": [
        {
          "name": "stdout",
          "text": [
            "From the total of 10497 measurements, 9962 are in between the min and max threshold.\n"
          ],
          "output_type": "stream"
        }
      ],
      "source": "min_threshold, max_threshold \u003d (-0.1,0.1)\ncounter \u003d 0\nfor d in downs:\n    if min_threshold \u003c d \u003c max_threshold:\n        counter+\u003d1\nprint(\u0027From the total of {} measurements, {} are in between the min and max threshold.\u0027.format(length, counter))\n",
      "metadata": {
        "pycharm": {
          "metadata": false,
          "name": "#%%\n",
          "is_executing": false
        }
      }
    },
    {
      "cell_type": "markdown",
      "source": "Now let\u0027s create a dummy pothole detection algorithm. We would assume that\u0027s everything\nwhich has higher than 0.1G amplitude is a pothole.\n",
      "metadata": {
        "pycharm": {
          "metadata": false,
          "name": "#%% md\n"
        }
      }
    },
    {
      "cell_type": "code",
      "execution_count": 10,
      "outputs": [],
      "source": "min_threshold, max_threshold \u003d (-0.1,0.1)\npotholes \u003d []\nfor d in downs:\n    if min_threshold \u003c d \u003c max_threshold:\n        potholes.append(0)\n    else: \n        potholes.append(1)\n",
      "metadata": {
        "pycharm": {
          "metadata": false,
          "name": "#%%\n",
          "is_executing": false
        }
      }
    },
    {
      "cell_type": "markdown",
      "source": "Now let\u0027s plot this.\n",
      "metadata": {
        "pycharm": {
          "metadata": false,
          "name": "#%% md\n"
        }
      }
    },
    {
      "cell_type": "code",
      "execution_count": 12,
      "outputs": [
        {
          "data": {
            "text/plain": "\u003cFigure size 432x288 with 2 Axes\u003e",
            "image/png": "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\u003d\u003d\n"
          },
          "metadata": {
            "needs_background": "light"
          },
          "output_type": "display_data"
        }
      ],
      "source": "plt.subplot(211)\nplt.plot(downs)\nplt.subplot(212)\nplt.plot(potholes)\n\nplt.show()\n",
      "metadata": {
        "pycharm": {
          "metadata": false,
          "name": "#%%\n",
          "is_executing": false
        }
      }
    },
    {
      "cell_type": "markdown",
      "source": "The upper subplot is the filtered acceleration signal, and below we can see where the signal\nhas higher amplitudes than 0.1.\n\nBut this is really not the right way to do it. \n\n~~First of all we might have problems in the downs dataset. It didn\u0027t look like this before.~~\nIt was because I plotted the data against time, but there are timestamps, where no data is available.\n\nSo. How to proceed?\nFirst, for the sake of clarity, let\u0027s assume these are the potholes we are looking for. \n\nLet\u0027s visualize these potholes on a real map.\nFor this I have to first load in the gps measurements that are already processed with \na Multi Model Adaptive Kalman Filter.\n",
      "metadata": {
        "pycharm": {
          "metadata": false,
          "name": "#%% md\n"
        }
      }
    },
    {
      "cell_type": "code",
      "execution_count": 13,
      "outputs": [
        {
          "data": {
            "text/plain": "       time            lng            lat\n0  59902000  735420.077995  102499.017416\n1  59903000  735413.055012  102499.852677\n2  59904000  735403.121753  102501.175136\n3  59905000  735392.182963  102502.473503\n4  59906000  735380.228327  102502.136988",
            "text/html": "\u003cdiv\u003e\n\u003cstyle scoped\u003e\n    .dataframe tbody tr th:only-of-type {\n        vertical-align: middle;\n    }\n\n    .dataframe tbody tr th {\n        vertical-align: top;\n    }\n\n    .dataframe thead th {\n        text-align: right;\n    }\n\u003c/style\u003e\n\u003ctable border\u003d\"1\" class\u003d\"dataframe\"\u003e\n  \u003cthead\u003e\n    \u003ctr style\u003d\"text-align: right;\"\u003e\n      \u003cth\u003e\u003c/th\u003e\n      \u003cth\u003etime\u003c/th\u003e\n      \u003cth\u003elng\u003c/th\u003e\n      \u003cth\u003elat\u003c/th\u003e\n    \u003c/tr\u003e\n  \u003c/thead\u003e\n  \u003ctbody\u003e\n    \u003ctr\u003e\n      \u003cth\u003e0\u003c/th\u003e\n      \u003ctd\u003e59902000\u003c/td\u003e\n      \u003ctd\u003e735420.077995\u003c/td\u003e\n      \u003ctd\u003e102499.017416\u003c/td\u003e\n    \u003c/tr\u003e\n    \u003ctr\u003e\n      \u003cth\u003e1\u003c/th\u003e\n      \u003ctd\u003e59903000\u003c/td\u003e\n      \u003ctd\u003e735413.055012\u003c/td\u003e\n      \u003ctd\u003e102499.852677\u003c/td\u003e\n    \u003c/tr\u003e\n    \u003ctr\u003e\n      \u003cth\u003e2\u003c/th\u003e\n      \u003ctd\u003e59904000\u003c/td\u003e\n      \u003ctd\u003e735403.121753\u003c/td\u003e\n      \u003ctd\u003e102501.175136\u003c/td\u003e\n    \u003c/tr\u003e\n    \u003ctr\u003e\n      \u003cth\u003e3\u003c/th\u003e\n      \u003ctd\u003e59905000\u003c/td\u003e\n      \u003ctd\u003e735392.182963\u003c/td\u003e\n      \u003ctd\u003e102502.473503\u003c/td\u003e\n    \u003c/tr\u003e\n    \u003ctr\u003e\n      \u003cth\u003e4\u003c/th\u003e\n      \u003ctd\u003e59906000\u003c/td\u003e\n      \u003ctd\u003e735380.228327\u003c/td\u003e\n      \u003ctd\u003e102502.136988\u003c/td\u003e\n    \u003c/tr\u003e\n  \u003c/tbody\u003e\n\u003c/table\u003e\n\u003c/div\u003e"
          },
          "metadata": {},
          "output_type": "execute_result",
          "execution_count": 13
        }
      ],
      "source": "path_of_gps \u003d r\u0027D:\\code\\PyCharmProjects\\thesis\\data\\trolli_playground\\kalmaned_data\\kalmaned_data.csv\u0027\npath_of_intervals \u003d r\u0027D:\\code\\PyCharmProjects\\thesis\\data\\trolli_playground\\kalmaned_data\\interval_data.csv\u0027\ngps_df \u003d pd.DataFrame(pd.read_csv(path_of_gps,sep\u003d\u0027,\u0027))\ninterval_df \u003d pd.DataFrame(pd.read_csv(path_of_intervals,sep\u003d\u0027,\u0027))\ngps_df.columns \u003d [\u0027time\u0027, \u0027lng\u0027, \u0027lat\u0027]\ninterval_df.columns \u003d [\u0027prio\u0027, \u0027post\u0027]\ngps_df.head()\n# interval_df.head()\n",
      "metadata": {
        "pycharm": {
          "metadata": false,
          "name": "#%%\n",
          "is_executing": false
        }
      }
    },
    {
      "cell_type": "markdown",
      "source": "Let\u0027s visualize it.\n",
      "metadata": {
        "pycharm": {
          "metadata": false,
          "name": "#%% md\n"
        }
      }
    },
    {
      "cell_type": "code",
      "execution_count": 14,
      "outputs": [
        {
          "data": {
            "text/plain": "\u003cFigure size 432x288 with 1 Axes\u003e",
            "image/png": "iVBORw0KGgoAAAANSUhEUgAAAY0AAAD8CAYAAACLrvgBAAAABHNCSVQICAgIfAhkiAAAAAlwSFlzAAALEgAACxIB0t1+/AAAADl0RVh0U29mdHdhcmUAbWF0cGxvdGxpYiB2ZXJzaW9uIDMuMC4zLCBodHRwOi8vbWF0cGxvdGxpYi5vcmcvnQurowAAIABJREFUeJzt3X2QXNV55/Hvz8MYJiaxkBhYMSNZxFGJ+EVIZoLJ4loQhBVgr6XwkuDCWJuSV5vErrXXXgVp48J2US7LphK83ixOySBLLARDQBGKDSGUwEWVZeGMLCFBQEhYNsxIKwmQsB0UIoln/+jT6E7P7e47Pd0zmpnfp6qr733uuadPX2nu0/ec+6KIwMzMrIi3jXYDzMxs7HDSMDOzwpw0zMysMCcNMzMrzEnDzMwKc9IwM7PCnDTMzKwwJw0zMyvMScPMzAo7abQb0Gynn356zJgxY7SbYWY2pmzevPnliOisV27cJY0ZM2bQ29s72s0wMxtTJP28SDl3T5mZWWFOGmZmVpiThpmZFeakYWZmhTlpmJlZYePu7Ckzs5G0bks/tzyygz2HDnPWpA6Wzp/FwrldDZc70dVNGpJWAR8B9kfE+1JsMnAvMAP4GfAHEXFQ0vXAjWnVXwF/EhFPpXV+BvwSOAYcjYieOnUJ+F/AlcDrwH+OiJ8M+xubmRVQZCe/bks/y9du5/CRYwD0HzrM8rXbAQaUHUq5Ez2xFDnSWA38FXBnJrYM2BARKyQtS/M3AruBi9JO/wpgJfDBzHrzIuLlivqr1XUFMDO9Pgh8q6IuMxtFzfyFPZJlipQrupO/5ZEdb5UpO3zkGLc8smPI5Yp8ZrV2j2SyqZs0IuIJSTMqwguAi9P0GuAHwI0RsTFTZhPQXaANuXWl+J1Reoj5JkmTJE2NiL0F6jQbd5q1Y2jGzreZv7BHskzRckWTwZ5Dh3O3cWW8SLl6n1mt3b0/f5UHNvfX/d7N0uhA+JnlnXd6PyOnzGLg4cx8AP8oabOkJQXq6gJeypTrSzGzCae8w+g/dJjg+I5h3Zb+QeUuXPEYZy/7PheueCx3eb16ipSptYPLKlJuJMsULVc0GZw1qSO3XGW8SLl6n1mt3fc8+VKh790sLRkIlzSPUtL4UCZ8YUTskXQG8Kik5yLiiVrV5MSiyuctAZYATJ8+vcFW22go8ot2LC9vVplmdW8UqadImWb+wh7JMkXLnTWpg/6ccpU7/6XzZw3Y5gAd7W0snT9ryOXqfWa1dh+L3N1i1fLD1eiRxj5JUwHS+/7yAkmzgduBBRHxSjkeEXvS+37g74Dz69TVB0zLfGY3sCevMRGxMiJ6IqKns7Pu/basAbV+wQ5nWa1ftGN9eTPLDLd7Yyj1FN2p5mnkF/ZIlilabun8WXS0tw1YnpcMFs7t4qtXvZ+uSR0I6JrUwVevev+gHwVFytX7zGrtblPe7+vq5Yer0aSxHliUphcBDwJImg6sBW6IiOfLhSW9Q9Kvl6eB/wg8XauuFP+ESi4AXvN4xvGd8Ixl3+fsZd9nRnqdvez7fGHd9kHlKnfWQ42Xl1XbqTW6DOrv5Mb68maWaUb3RtF6mrlTLVJuJMsULVc0GZTL/nDZJexe8WF+uOySquMI9crV+8xq7f7YB6cV+t7NUuSU23soDVSfLqkP+CKwArhP0mLgReDaVPwmYApwW+mM2bdOrT0T+LsUOwn4m4j4h7ROtboeonS67S5Kp9z+0bC+6RhR2U0x75xOHn/uAP2HDvM2wZuZI9HsQWkAd216kQc293H1ed25A2PVBszqDaTV26k1smzh3K66O7mxvryZZZrRvVG0niJlsl1ZtbrdipQbyTJDLTfSp7vW+sxa7e551+QT6uypj1VZdGlO2U8Cn8yJ/xQ4t0r9r1SpK4BP1WvfWFQrMYjjyaD/0GHu2vTiW+u9md91OcDhI29y96YXBw3+lAfMKvs/a8WL7twbXVZvJzfWlzezTJEdXbN29s3eqRYpN5JlhlLuRFOt3SP5fXxFeAtUSwp7Dh1m0q+186t/PcqRlAEqE0OBvFBXtTqqDZjVG0irt1NrdFm9ndxYX97MMlB/x9DMnf1Y3ala6zlpNFneGSzZpHDw9SOj1TTapNwEUS1edOfe6LJ6O7mxvryZZYryzt5aTVHlV+ZY1dPTE6Px5L7y0UXeL+vRkO3mgtLO+urzugaMXdSLZwfhap0S2ugyMztxSNpcvr1TzXJOGo3LJorKnfRoKieCcpdYkdsNeOduNrE5abRYZTfUaGpvE+94+0m8dviId/hm1pCiScNjGkPUjG6oyp38jCkdbHzh1ZpHKuUjma6KgXUnCTMbSU4aQ9DI0UXRnXw2GZUHpsvvXU4MZnaCcNIYgryL3KqpHEiux2e9mNlY4KQxBPW6pLJdSD4yMLPxyEmjoHVb+mueIeVEYWYTgZNGQbc8siM3YQi49Q/nOFmY2YTQ6F1uJ5R1W/qrdk0FrXk6lpnZichJo47yGVPVdLXonvVmZiciJ406ap0x1cp71puZnYicNOqodYvvoZxSa2Y2Hjhp1FHtKWZdkzqcMMxswnHSqKPoIyTNzCaCuklD0ipJ+yU9nYlNlvSopJ3p/bQUv17StvTaKOncirraJG2R9L1MbLWk3ZK2ptecFJekb0raler7QPO+dnFDeVawmdl4V+Q6jdXAXwF3ZmLLgA0RsULSsjR/I7AbuCgiDkq6AlgJfDCz3meAZ4HfqPiMpRFxf0XsCmBmen0Q+FZFXSPGt/gwMyupe6QREU8Ar1aEFwBr0vQaYGEquzEiDqb4JqC7vIKkbuDDwO0F27YAuDNKNgGTJE0tuK6ZmbVAo2MaZ0bEXoD0fkZOmcXAw5n5bwB/BryZU/YrqQvqVkknp1gX8FKmTF+KDSJpiaReSb0HDhwY4lcxM7OiWjIQLmkepaRxY5r/CLA/IjbnFF8OnAP8DjC5vA6lO3RUyr31U0SsjIieiOjp7OwcbvPNzKyKRpPGvnJXUXrfX14gaTalLqgFEfFKCl8IfFTSz4DvApdIugtKRyqpC+oN4DvA+WmdPmBa5jO7gT0NttfMzJqg0aSxHliUphcBDwJImg6sBW6IiOfLhSNieUR0R8QM4DrgsYj4eFqnnHxEaWzk6cxnfCKdRXUB8Fq5S8zMzEZH3bOnJN0DXAycLqkP+CKwArhP0mLgReDaVPwmYApwWykHcLTAM2fvltRJqTtqK/DHKf4QcCWwC3gd+KPiX8vMzFpBEbWeTD329PT0RG9v72g3w8xsTJG0ucCPfF8RbmZmxTlpmJlZYU4aZmZWmJOGmZkV5qRhZmaFOWmYmVlhThpmZlZYkVujT2jXf/tH/PCF4zf5vfDdk7n7v/zuKLbIzGz0+EijhsqEAfDDF17l+m//aJRaZGY2upw0aqhMGPXiZmbjnZOGmZkV5qRhZmaFOWmYmVlhThpmZlaYk0YNbcp74mz1uJnZeOekUcOxKs8aqRY3MxvvnDRq8JGGmdlAhZKGpFWS9kt6OhObLOlRSTvT+2kpfr2kbem1UdK5FXW1Sdoi6XuZ2NmSnkx13Svp7Sl+cprflZbPaMaXLspHGmZmAxU90lgNXF4RWwZsiIiZwIY0D7AbuCgiZgM3Aysr1vsM8GxF7GvAramug8DiFF8MHIyI3wJuTeVGzKSO9iHFzczGu0JJIyKeACovg14ArEnTa4CFqezGiDiY4puA7vIKkrqBDwO3Z2ICLgHur6yr4jPuBy5N5UdEtU9y75SZTVTDGdM4MyL2AqT3M3LKLAYezsx/A/gz4M1MbApwKCKOpvk+oCtNdwEvpc84CryWyg8gaYmkXkm9Bw4caPwbVTj0+pEhxc3MxruWDYRLmkcpadyY5j8C7I+IzZVFc1aPAsuOByJWRkRPRPR0dnYOo9UDnTWpY0hxM7PxbjhJY5+kqQDpfX95gaTZlLqgFkTEKyl8IfBRST8DvgtcIuku4GVgkqTybdq7gT1pug+Yluo8CXgng7vJWmbp/Fl0tLcNiAmYd07zEpOZ2VgynKSxHliUphcBDwJImg6sBW6IiOfLhSNieUR0R8QM4DrgsYj4eEQE8DhwTWVdFZ9xTVpnxE5dWji3i6vP6xpwuBPAA5v7Wbelf6SaYWZ2wih6yu09wI+AWZL6JC0GVgCXSdoJXJbmAW6iNO5wm6StknoLfMSNwOck7Urr3pHidwBTUvxzHD9Da8Q8/tyBQf1hh48c45ZHdox0U8zMRl2hJ/dFxMeqLLo0p+wngU/Wqe8HwA8y8z8Fzs8p96/AtUXa2Cp7Dh0eUtzMbDzzFeF1eDDczOw4J406qg16ezDczCYiJ406Hn8u/7qPanEzs/HMSaMOj2mYmR3npFGHxzTMzI5z0qhj6fxZtL9t4IXp7W8TS+fPGqUWmZmNHieNIipvZuIbFprZBOWkUcctj+zgyLGBl/cdORa+uM/MJiQnjTo8EG5mdpyTRh3vrPLAJQ+Em9lE5KRRw7ot/fzLvx0dFPdAuJlNVE4aNeSNZwCcespJLJzblbOGmdn45qRRQ7VxCz+5z8wmKieNGnxhn5nZQE4aNfjCPjOzgZw06vGFfWZmb6mbNCStkrRf0tOZ2GRJj0ramd5PS/HrJW1Lr42Szk3xUyT9WNJTkp6R9OVMXasl7U5P+dsqaU6KS9I3Je1K9X2g+V+/Nl/YZ2Y2UJEjjdXA5RWxZcCGiJgJbOD4Y1h3AxdFxGzgZmBlir8BXBIR5wJzgMslXZCpb2lEzEmvrSl2BTAzvZYA3xrSN2sCX9hnZjZQ3aQREU8Ar1aEFwBr0vQaYGEquzEiDqb4JqA7xSMifpXi7ek1+FzWwZ9xZ1p3EzBJ0tR67W0mD4SbmQ3U6JjGmRGxFyC9n5FTZjHwcHlGUpukrcB+4NGIeDJT9iupC+pWSSenWBfwUqZMX4qNGA+Em5kN1JKBcEnzKCWNG8uxiDgWEXMoHX2cL+l9adFy4Bzgd4DJmXXyhpxzj04kLZHUK6n3wIEmP1HPA+FmZm9pNGnsK3cVpff95QWSZgO3Awsi4pXKFSPiEPAD0jhJROxNXVBvAN8Bzk9F+4BpmVW7gT15jYmIlRHRExE9nZ3Ne3a3B8LNzAZqNGmsBxal6UXAgwCSpgNrgRsi4vlyYUmdkial6Q7g94Dn0nw5+YjS2MjTmc/4RDqL6gLgtXKX2EjxQLiZ2UAn1Ssg6R7gYuB0SX3AF4EVwH2SFgMvAtem4jcBU4DbSjmAoxHRA0wF1khqo5So7ouI76V17pbUSanjZyvwxyn+EHAlsAt4Hfij4X3VoTtrUgf9OQnCA+FmNlEpot5JTGNLT09P9Pb2NqWudVv6Wb52O4ePHHsr1tHexlever9vWGhm44qkzelHfk2+IryGhXO7uPq8LtpKR020SVx9XpcThplNWE4aNazb0s8Dm/s5lo7GjkXwwOZ+1m3pH+WWmZmNDieNGm55ZMeArimAw0eO+ewpM5uwnDRq8NlTZmYDOWnU4NuImJkN5KRRw7xzOgddAN7R3ubbiJjZhOWkUUV5EDx7QrLAZ0+Z2YTmpFFF3iB4AI8/1+R7W5mZjSFOGlV4ENzMbDAnjSo8CG5mNpiTRhV+loaZ2WBOGrX4WRpmZgM4aVThZ2mYmQ3mpFGFB8LNzAZz0qjCA+FmZoM5aVThgXAzs8GcNGrxQLiZ2QCFkoakVZL2S3o6E5ss6VFJO9P7aSl+vaRt6bVR0rkpfoqkH0t6StIzkr6cqetsSU+muu6V9PYUPznN70rLZzTzy9figXAzs8GKHmmsBi6viC0DNkTETGBDmgfYDVwUEbOBm4GVKf4GcElEnAvMAS6XdEFa9jXg1lTXQWBxii8GDkbEbwG3pnIjwgPhZmaDFUoaEfEE8GpFeAGwJk2vARamshsj4mCKbwK6Uzwi4lcp3p5eIUnAJcD9lXVVfMb9wKWpfMt5INzMbLDhjGmcGRF7AdL7GTllFgMPl2cktUnaCuwHHo2IJ4EpwKGIOJqK9QHl28h2AS+lzzgKvJbKt5wHws3MBjupVRVLmkcpaXyoHIuIY8AcSZOAv5P0PmBfzurlwYS8o4qoDEhaAiwBmD59+jBbnq24zryZ2QQznCONfZKmAqT3/eUFkmYDtwMLIuKVyhUj4hDwA0rjJC8DkySVE1g3sCdN9wHTUp0nAe9kcDcZEbEyInoioqezs3MYX+k4D4SbmQ02nKSxHliUphcBDwJImg6sBW6IiOfLhSV1piMMJHUAvwc8FxEBPA5cU1lXxWdcAzyWyrecB8LNzAYresrtPcCPgFmS+iQtBlYAl0naCVyW5gFuojTucJukrZJ6U3wq8LikbcA/URrT+F5adiPwOUm70rp3pPgdwJQU/xzHz9BqOQ+Em5kNVmhMIyI+VmXRpTllPwl8Mie+DZhbpf6fAufnxP8VuLZIG5tt3jmd3L3pxQEDKH4+uJlNdL4iPIefD25mls9JI4efD25mls9JI4cHwc3M8jlp5PAguJlZPieNHL4a3Mwsn5NGNb4a3MxsECeNHL4a3Mwsn5NGDg+Em5nlc9LI4YFwM7N8Tho5ls6fRUd724CYrwY3M3PSyLVwbhdXn9dFW3reU5vkq8HNzHDSyFW+jcixdEPdYxE8sLmfdVv6R7llZmajy0kjR95tRA4fOeazp8xswnPSyOGzp8zM8jlp5PDZU2Zm+Zw0cvg2ImZm+Zw0qvFtRMzMBqmbNCStkrRf0tOZ2GRJj0ramd5PS/HrJW1Lr42Szk3xaZIel/SspGckfSZT15ck9adHw26VdGVm2XJJuyTtkDS/uV+9Ot9GxMwsX5EjjdXA5RWxZcCGiJgJbOD4s7t3AxdFxGzgZmBlih8FPh8Rvw1cAHxK0nsy9d0aEXPS6yGAtPw64L3p82+TNPCKuxbxQLiZWb66SSMingBerQgvANak6TXAwlR2Y0QcTPFNQHeK742In6TpXwLPAvWulFsAfDci3oiI3cAucp4j3goeCDczy9fomMaZEbEXSgkBOCOnzGLg4cqgpBnAXODJTPjTqUtrVbmri1JSeSlTpo/6iaYp5p3TOWgIw7cRMTNr0UC4pHmUksaNFfFTgQeAz0bEL1L4W8C7gTnAXuAvysVzqo6cGJKWSOqV1HvgwPCe412+Gjz7QQLfRsTMjMaTxj5JUwHS+/7yAkmzgduBBRHxSibeTilh3B0Ra8vxiNgXEcci4k3g2xzvguoDpmU+sxvYk9eYiFgZET0R0dPZ2dngVyrJuxo8gMefG14yMjMbDxpNGuuBRWl6EfAggKTpwFrghoh4vlxYkoA7gGcj4i+zFZWTT/L7QPksrfXAdZJOlnQ2MBP4cYPtLcyD4GZm1Z1Ur4Cke4CLgdMl9QFfBFYA90laDLwIXJuK3wRMoXSmE8DRiOgBLgRuALZL2prK/s90ptTXJc2h9IP+Z8B/BYiIZyTdB/wzpbOvPhURAw8BWuCsSR305yQID4KbmYEicocJxqyenp7o7e1teP0vrNvO3ZteHDCm0dHexlever/HNMxs3JK0Of3Ir8lXhGd4ENzMrDYnjQwPgpuZ1eakkeFBcDOz2pw0MnwluJlZbU4aGb4luplZbU4alXxLdDOzqpw0MnxLdDOz2pw0MjwQbmZWm5NGhgfCzcxqc9LI8C3Rzcxqc9JIfDW4mVl9ThqJrwY3M6vPSSPJu7MteBDczCzLSYNS11S1yzE8CG5mdpyTBqWuqbwbxAs8CG5mluGkQfUuqAAPgpuZZThpUL0LqstdU2ZmA9RNGpJWSdov6elMbLKkRyXtTO+npfj1kral10ZJ56b4NEmPS3pW0jOSPlOgLkn6pqRdqb4PNP/rl8w7p3NIcTOziarIkcZq4PKK2DJgQ0TMBDakeYDdwEURMRu4GViZ4keBz0fEbwMXAJ+S9J46dV0BzEyvJcC3hvbViqt2Wq1PtzUzG6hu0oiIJ4BXK8ILgDVpeg2wMJXdGBEHU3wT0J3ieyPiJ2n6l8CzQFetulL8zijZBEySNHVoX68Y33PKzKyYRsc0zoyIvVBKCMAZOWUWAw9XBiXNAOYCT9apqwt4KbNqH8cTTVO9s6M9N+7Tbc3MBjqpFZVKmkcpaXyoIn4q8ADw2Yj4Rb1qcmJ5Z8YiaQmlLiymT58+pLau29LPv/zb0UFxP3zJzGywRo809pW7itL7/vICSbOB24EFEfFKJt5OKWHcHRFrC9TVB0zLlOsG9uQ1JiJWRkRPRPR0dg5t8DrvGRoAp55ykk+3NTOr0GjSWA8sStOLgAcBJE0H1gI3RMTz5cKSBNwBPBsRf1mkrhT/RDqL6gLgtXI3VjNVG7c49PqRZn+UmdmYV+SU23uAHwGzJPVJWgysAC6TtBO4LM0D3ARMAW6TtFVSb4pfCNwAXJLiWyVdmZZVq+sh4KfALuDbwJ8O87vmqjZuUW2cw8xsIlNE7jDBmNXT0xO9vb31CybrtvSz9G+f4sibA7dDe5u45Zpz3UVlZhOCpM0R0VOv3IS/Inzh3C5OPWXw+QB+NriZ2WATPmlA9fGLardLNzObqJw0qD6uIUrdV2ZmVuKkQen259UuCnEXlZnZcU4alMY1qp0O0H/osI82zMwSJ42k1m3Ql6/d7sRhZoaTxluWzp9FR3tb7rLDR47x2Xu3cuGKx5w8zGxCa8m9p8ai8vUYn713a9Uy/YcOs3zt9gHlzcwmEh9pZCyc21X3aX2Hjxzz4LiZTVhOGhVqdVOV9R867K4qM5uQ3D1VodztdMsjO2pe3OeuKjObiCb8vadqWbeln+Vrt3P4yLGa5bomdbB0/iwnDzMbs4ree8pHGjX4qMPMbCCPadSxcG4XP1x2SaEBcp+Wa2bjnZNGQUUGyOH4UYcTh5mNR04aBS2c28VXr3p/3SMO8FGHmY1fThpDUO6q+sYfzvFRh5lNSEUe97pK0n5JT2dikyU9Kmlnej8txa+XtC29Nko6t1Y9Kf4lSf05j4FF0nJJuyTtkDS/OV95+HzUYWYTVZEjjdXA5RWxZcCGiJgJbEjzALuBiyJiNnAzsLJOPWW3RsSc9HoIQNJ7gOuA96b1bpNU/+f9CPFRh5lNRHWTRkQ8AbxaEV4ArEnTa4CFqezGiDiY4puA7jr11LIA+G5EvBERu4FdwPlDWH9EDPWo4/P3PeXEYWZjVqNjGmdGxF6A9H5GTpnFwMMF6/t06tJaVe7qArqAlzJl+lLshDOUo45jET7iMLMxqyUD4ZLmUUoaNxYo/i3g3cAcYC/wF+VqcsrmXr4uaYmkXkm9Bw4caKDFzVH0qMM3PTSzsarRpLFP0lSA9L6/vEDSbOB2YEFEvFKvoojYFxHHIuJN4Nsc74LqA6ZlinYDe6rUsTIieiKip7Ozs6Ev1CxFjzpqXWFuZnaiajRprAcWpelFwIMAkqYDa4EbIuL5IhWVk0/y+0D57Kr1wHWSTpZ0NjAT+HGD7R1x5aOONuUdMJUOo9xFZWZjTZFTbu8BfgTMktQnaTGwArhM0k7gsjQPcBMwhdKZTlsl9dapB+DrkrZL2gbMA/47QEQ8A9wH/DPwD8CnIqL2nQNPMAvndvEXf3Bu1X62L61/ZqSbZGY2LL7L7QiYsez7VZd94w/n+CaHZjbqit7l1leEj4BaA+MeEDezscRJYwTMO6f64PweD4ib2RjipNFi67b088Dm6gPeZxW4KNDM7EThpNFitzyyo+qT/zra21g6f9YIt8jMrHFOGi1W63qMr171fg+Cm9mY4qTRYvlXaUCb5IRhZmOOk0YLfWHd9vz7nlC6B5WZ2VjjpNEiX1i3nbs2vVh1eZG74pqZnWicNFpg3Zb+mgkD8AC4mY1JThotUOSCPY9nmNlY5KTRAvUu2Dvt19pHqCVmZs3lpNEC9S7Y++J/eu8ItcTMrLmcNFpg6fxZtLfln2z78Qumu2vKzMask0a7AeNROSl8+e+f4eDrRwCY1NHOlz76XicMMxvTnDRaZOHcLicIMxt33D1lZmaFOWmYmVlhThpmZlaYk4aZmRXmpGFmZoUpxtndViUdAH7ewKqnAy83uTnN5jY2z1hop9vYPGOhnaPdxndFRPVnUyfjLmk0SlJvRPSMdjtqcRubZyy0021snrHQzrHQRnD3lJmZDYGThpmZFeakcdzK0W5AAW5j84yFdrqNzTMW2jkW2ugxDTMzK85HGmZmVlxEjNkXMAvYmnn9AvgscDOwLcX+ETgrlb8YeC1T/qZMXZcDO4BdwLJMfDWwO7POnBQX8M1UfhvwgRFq5ypgP/B0xWdMBh4Fdqb304bSzhFq45eA/sw6V2aWLU9t3AHMb/W2BKYBjwPPAs8AnznRtmWdNg5rWzaxjacAPwaeSm38cuYzzgaeTNvxXuDtKX5ymt+Vls8YgX/vWu1czTD+xpvVxkx9bcAW4HvN3JZN2++2+gNG6pU29P8D3gX8Rib+34C/zvxjfa/Kui8Avwm8Pf3Hek/mP9Q1OetcCTyc/mNdADzZ6namZf8B+ACDd8hfJyU7YBnwtUbb2cI2fgn4Hznl35O2+cnpj+MFoK3F/+ZTSTsB4NeB5zP/5ifEtqzTxqZty2G2UcCpabqd0o7rgjR/H3Bdmv5r4E/S9J9m6r0OuHcE/sZrtXM1TfobH04bM2U/B/wNA5NGU7flcF7jqXvqUuCFiPh5RPwiE38HUG/g5nxgV0T8NCL+DfgusKDOOguAO6NkEzBJ0tQWt5OIeAJ4tUp71qTpNcDCYbSzVW2sZgHw3Yh4IyJ2U/rVdH6B9RpuZ0TsjYifpOlfUvo1X76X/QmxLeu0sZpGtuVw2hgR8as0255eIUnAJcD9aVnldixv3/uBS1P5eprezjqfN+J/O5K6gQ8Dt2dirdiWDRtPSeM64J7yjKSvSHoJuB64KVPudyU9JelhSeXnrnYBL2XK9DHwj/MrkrZJulXSyQXXaUU7azkzIvZCaWcDnDGMdraqjQCfTttylaTThtHGprVT0gxgLqVfn3ACbsucNkLztuWw2iipTdJWSl2Sj0bEk8AU4FBEHM1px1ttTMtfS+XraUU7y5r1Nz7cf+9vAH8GvJmJtWJbNq7VhzIj8aLUpfQypT/2ymXLSf2XwG9w/BD1SmBnmr4WuD2zzg3A/07TUykdnp4aTV3OAAAC0UlEQVRMKaOX+0i/D3wos84G4LxWtjNTdgaDu34OVcwfbKSdLW7jmZQO398GfAVYleL/B/h4ptwdwNUjtC1PBTYDV53A2zKvjU3Zls1qY4pPojQG8z6gk9LRe3nZNGB7mn4G6M4sewGYMhL/3pXtTPNN+RsfbhuBjwC3pemLSd1Tzd6Ww32NlyONK4CfRMS+nGV/A1wNEBG/iHSIGhEPAe2STqeUuadl1ukG9qRye6PkDeA7HD/Ur7pOC9tZy77yoXN6399gO1vWxojYFxHHIuJN4NuM8raU1A48ANwdEWsz658w27JaG5u4LZv27x0Rh4AfUDqp5GVK3Tnlp4Nm2/FWG9Pyd1K/O7NV7Wzm3/hw23gh8FFJP6PURX6JpLto/rYclvGSND7GwEPCmZllHwWeS/F/V+7vk3Q+pe//CvBPwExJZ0t6O6VDzPWpXHnnIUr9iE+netcDn1DJBcBrkbo0WtjOWtYDi9L0IuDBBtvZsjZW9Af/PgO35XWSTpZ0NjCT0pkutQyrnSl2B/BsRPxlRd0nxLas1cYmbsvhtrFT0qQU7wB+D3guSj97HweuSXVVbsfy9r0GeCyVr6Ul7UzzzfobH1YbI2J5RHRHxAxK+6DHIuLjLdiWw9PKw5iReAG/Rmln9c5M7AFK//DbgL8HulL805QO554CNgH/PrPOlZTOTnkB+PNM/DFge6rvLo4fVopSV8ALaXnPCLXzHmAvcITSr4zFKT6F0uHzzvQ+eajtHIE2/t/Uhm2U/rNPzazz56mNO4ArWr0tgQ9RGpgsnxL51mmrJ8q2rNPGYW/LJrVxNqXTQ7el9bKnXv8mpYS1C/hb4OQUPyXN70rLf3ME/r1rtXPYf+PNaGNFfRcz8OyppmzLZrx8RbiZmRU2XrqnzMxsBDhpmJlZYU4aZmZWmJOGmZkV5qRhZmaFOWmYmVlhThpmZlaYk4aZmRX2/wF3W2R8oEI+oQAAAABJRU5ErkJggg\u003d\u003d\n"
          },
          "metadata": {
            "needs_background": "light"
          },
          "output_type": "display_data"
        }
      ],
      "source": "plt.scatter(gps_df[\u0027lng\u0027], gps_df[\u0027lat\u0027])\nplt.show()\n",
      "metadata": {
        "pycharm": {
          "metadata": false,
          "name": "#%%\n",
          "is_executing": false
        }
      }
    },
    {
      "cell_type": "markdown",
      "source": "Okay we have the gps points of the track. For every point there we have a timestamp. \nAnd for every timestamp we have an interval in which we have acceleration measurements.\n\nNote, that our GPS sensor has a temporal resolution of 1Hz, while our acceleration\nsensor has a temporal resolution of 100Hz. So theoretically, for every point in the map, we have\n100 measured accelearation values.\nThe intervals are position around the timestamps of gps measurements. An interval for\na gps measurement starts from t-0.5 sec and lasts until t+0.5sec.\n\nSo let\u0027s bring back out `potholes` list and append timestamps to it. Or whats better\nrecreate this potholes object in a way that we get the indices where a pothole happened.\n\nSo I\u0027ll first copy paste and edit the script that I wrote earlier.\n\n\n\n",
      "metadata": {
        "pycharm": {
          "metadata": false,
          "name": "#%% md\n"
        }
      }
    },
    {
      "cell_type": "code",
      "execution_count": 15,
      "outputs": [
        {
          "data": {
            "text/plain": "535"
          },
          "metadata": {},
          "output_type": "execute_result",
          "execution_count": 15
        }
      ],
      "source": "potholes \u003d []\nfor t, d in zip(_time, downs):\n    if min_threshold \u003c d \u003c max_threshold:\n        pass\n    else: \n        potholes.append((t,1))\nlen(potholes)\n",
      "metadata": {
        "pycharm": {
          "metadata": false,
          "name": "#%%\n",
          "is_executing": false
        }
      }
    },
    {
      "cell_type": "markdown",
      "source": "Okay, let\u0027s see which pothole fits in which interval.\n",
      "metadata": {
        "pycharm": {
          "metadata": false,
          "name": "#%% md\n"
        }
      }
    },
    {
      "cell_type": "code",
      "execution_count": 16,
      "outputs": [
        {
          "name": "stdout",
          "text": [
            "36\n{3, 5, 6, 8, 9, 10, 14, 15, 16, 17, 18, 19, 20, 21, 22, 23, 26, 27, 28, 29, 30, 39, 46, 47, 57, 58, 70, 72, 73, 74, 75, 76, 81, 86, 93, 96}\n"
          ],
          "output_type": "stream"
        }
      ],
      "source": "prios, posts \u003d interval_df[\u0027prio\u0027], interval_df[\u0027post\u0027]\nindices \u003d []\nfor i, (pr, po) in enumerate(zip(prios,posts)):\n    for t,_ in potholes:\n        if pr \u003c t \u003c po:\n            indices.append(i)\nset_of_indices \u003d set(indices)\nprint(len(set_of_indices))\nprint(set_of_indices)\n    ",
      "metadata": {
        "pycharm": {
          "metadata": false,
          "name": "#%%\n",
          "is_executing": false
        }
      }
    },
    {
      "cell_type": "code",
      "execution_count": 23,
      "outputs": [
        {
          "name": "stdout",
          "text": [
            "36 36\n"
          ],
          "output_type": "stream"
        },
        {
          "data": {
            "text/plain": "\u003cFigure size 432x288 with 1 Axes\u003e",
            "image/png": "[encoded data removed]"
          },
          "metadata": {
            "needs_background": "light"
          },
          "output_type": "display_data"
        }
      ],
      "source": "gps_time \u003d gps_df[\u0027time\u0027].tolist()\nlng \u003d gps_df[\u0027lng\u0027].tolist()\nlat \u003d gps_df[\u0027lat\u0027].tolist()\ntype(gps_time)\nlngs \u003d []\nlats \u003d []\nfor i in list(set_of_indices):\n    lngs.append(lng[i])\n    lats.append(lat[i])\nprint(len(lngs), len(lats))\nplt.scatter(gps_df[\u0027lng\u0027], gps_df[\u0027lat\u0027])\nplt.scatter(lngs, lats, color\u003d\"red\")\nplt.show() \n",
      "metadata": {
        "pycharm": {
          "metadata": false,
          "name": "#%%\n",
          "is_executing": false
        }
      }
    },
    {
      "cell_type": "markdown",
      "source": "Yooo! This looks cool however it\u0027s fake as hell probably :):)\n\nNow let\u0027s discuss what\u0027s wrong with this, and how to proceed.\n\nFirst of all what we\u0027ve done above is ignoring many things. We got 535 acceleration measurements\nthat has higher amplitude than our threshold of 0.1 and we checked which time interval \ncontains these out-of-threshold acceleration measurements. But we didn\u0027t check how many \nmeasurements are in a single interval. So if only one acceleration measurement goes beyond the threshold,\nwe handle it the same as if all the 100 acceleration measurements go beyond the threshold.\n\nSecond of all the bare threshold is not the best method to select acceleration measurements\nto be potholes. There might be quite a long set of measurements in a specific time interval \nthat are really close to zero, and then one of the measurements go beyond 0.1 with only as little as\n0.000001 aplitude, and then we declare, that whole set of acceleration measurements in that interval\nis a pothole. Bullshit!\n\nThen there we have another problem. It\u0027s okay that we have these so-called intervals, that is\n1 sec window around a gps measurement, but to be honest it\u0027s just thoretical. The acceleration \nmeasurements are still in one huge stream of data, which we process, and apply the intervals \nafterward. This totally ignores the fact that the boundaries of these time intervals can and will\nsplit a pothole event into two parts, so we would classify both gps points as potholes,\nbut this isn\u0027t always the best solution.\n\nThere a few more bad aspects of the method above. But let\u0027s see how we could \nimprove our model.\n\nMaybe the least we could do is apply a windowing function to our data. That is\nsplit the dataset into overlapping segments. This way not only we analyze one part of the\ndataset at time,which can lead to improved results, but we would also be able to recognize\npotholes that are on the boundary of two time intervals due to the fact that the \nsegments overlap.\n\nSo let\u0027s window our data. We\u0027ll introduce some functions here first.\n",
      "metadata": {
        "pycharm": {
          "metadata": false,
          "name": "#%% md\n"
        }
      }
    },
    {
      "cell_type": "code",
      "execution_count": 26,
      "outputs": [],
      "source": "def do_windowing(axis, hamming\u003dFalse, window_size\u003d100):\n    n \u003d window_size\n    m \u003d round(n / 4)  # overlap_size\n    if hamming \u003d\u003d False:\n        windows \u003d [axis[i:i + n] for i in range(0, len(axis), n - m)]\n    else:\n        windows \u003d [do_hamming(axis[i:i + n], n) for i in range(0, len(axis), n - m)]\n    return windows\n\n\ndef do_hamming(dataset, n):\n    window \u003d np.hamming(n)\n    if len(dataset) !\u003d n: window \u003d np.hamming(len(dataset))\n    windowed_data_og \u003d np.multiply(dataset, window)\n    return windowed_data_og\n",
      "metadata": {
        "pycharm": {
          "metadata": false,
          "name": "#%%\n",
          "is_executing": false
        }
      }
    },
    {
      "cell_type": "markdown",
      "source": "Now this was already written in the meantime of some earlier experiments.\nI\u0027ll split both the acceleration measurement timestamps and downward acceleration \nto segments, but will only apply hamming window function to the latter.\n",
      "metadata": {
        "pycharm": {
          "metadata": false,
          "name": "#%% md\n"
        }
      }
    },
    {
      "cell_type": "code",
      "execution_count": 31,
      "outputs": [
        {
          "name": "stdout",
          "text": [
            "140 140\n[59901255, 59901265, 59901276, 59901285, 59901295, 59901304, 59901314, 59901324, 59901334, 59901344]\n[59901255, 59901265, 59901276, 59901285, 59901295, 59901304, 59901314, 59901324, 59901334, 59901344]\n[0.03094056 0.02674949 0.02330577 0.02125777 0.02049122 0.02027692\n 0.01965858 0.01788658 0.01470859 0.01042351 0.00571334]\n[0.00477743 0.00442673 0.00423955 0.0043502  0.00481242 0.00555529\n 0.00636398 0.00690811 0.0068248  0.00583892]\n"
          ],
          "output_type": "stream"
        }
      ],
      "source": "windowed_acc_time \u003d do_windowing(_time)\nwindowed_acc_down \u003d do_windowing(downs, hamming\u003dTrue)\nprint(len(windowed_acc_time), len(windowed_acc_down))\nprint(windowed_acc_time[0][75:85])\nprint(windowed_acc_time[1][0:10])\nprint(windowed_acc_down[0][75:86])\nprint(windowed_acc_down[1][0:10])  \n",
      "metadata": {
        "pycharm": {
          "metadata": false,
          "name": "#%%\n",
          "is_executing": false
        }
      }
    },
    {
      "cell_type": "markdown",
      "source": "There is a difference of course.\nTimestamps didn\u0027t go through a windowing function, it just got split up.\nBut now we have the windows. What to do with them?\nIn our work we want to acquire potholes, and for that we will use techniques \nlisted above.\n\nFirst Z-threshold properly.\nSecond Z-diff.\nThird Z-stddev.\n",
      "metadata": {
        "pycharm": {
          "metadata": false,
          "name": "#%% md\n"
        }
      }
    },
    {
      "cell_type": "code",
      "execution_count": 32,
      "outputs": [],
      "source": "min_threshold, max_threshold \u003d (-0.08,0.08)\nindices_of_high_amplitude_measurements \u003d []\nfor window in windowed_acc_down:\n    indices_in_window\u003d[]\n    for i, down in enumerate(window):\n        if min_threshold \u003c down \u003c max_threshold:\n            pass\n        else: \n            indices_in_window.append(i)\n    if len(indices_in_window) \u003e\u003d 5:\n        indices_of_high_amplitude_measurements.append(indices_in_window)\n    else:\n        indices_of_high_amplitude_measurements.append([])\n\n    ",
      "metadata": {
        "pycharm": {
          "metadata": false,
          "name": "#%%\n",
          "is_executing": false
        }
      }
    },
    {
      "cell_type": "markdown",
      "source": "Ok, we will not map these into real world now. Let\u0027s just go ahead and\nwrite some implementation for the other two techniques.\n\nZ-diff can be implemented two ways it seems.\n- First: the absolute difference between the highest and lowest value.\n- Second: we have a point, we loop further until a peak is reached,\nthat is at some point the next measurement would be lower \n(or higher in case if we go over a low peak or valley) than the prior one.\nThen we measure whats the difference between point to peak or peak to peak.\n\nThe above two are almost the same. The first is a lot easier to implement\nbut it will get the diff from the absolute highest and the absolute \nlowest values, disregarding if they are neighbouring peaks or not.\n\nSo let\u0027s implement that.\n",
      "metadata": {
        "pycharm": {
          "metadata": false,
          "name": "#%% md\n"
        }
      }
    },
    {
      "cell_type": "code",
      "execution_count": 39,
      "outputs": [
        {
          "data": {
            "text/plain": "[6,\n 9,\n 12,\n 13,\n 15,\n 21,\n 23,\n 25,\n 26,\n 30,\n 32,\n 37,\n 40,\n 64,\n 80,\n 99,\n 100,\n 101,\n 102,\n 118]"
          },
          "metadata": {},
          "output_type": "execute_result",
          "execution_count": 39
        }
      ],
      "source": "diffs \u003d []\npotholes_by_z_diff \u003d []\nfor i,window in enumerate(windowed_acc_down):\n    max_val \u003d max(window)\n    min_val \u003d min(window)\n    diff \u003d max_val - min_val\n    diffs.append(diff)\n    if diff \u003e 0.16:\n        potholes_by_z_diff.append(i)\npotholes_by_z_diff\n# np.average(diffs)\n ",
      "metadata": {
        "pycharm": {
          "metadata": false,
          "name": "#%%\n",
          "is_executing": false
        }
      }
    },
    {
      "cell_type": "markdown",
      "source": "Was simple was simple. Now let\u0027s calculate the std devs the same way.\n",
      "metadata": {
        "pycharm": {
          "metadata": false,
          "name": "#%% md\n"
        }
      }
    },
    {
      "cell_type": "code",
      "execution_count": 38,
      "outputs": [
        {
          "data": {
            "text/plain": "[6, 9, 12, 13, 21, 22, 23, 25, 27, 28, 30, 37, 40, 100, 101]"
          },
          "metadata": {},
          "output_type": "execute_result",
          "execution_count": 38
        }
      ],
      "source": "std_devs \u003d []\npotholes_by_z_stddev \u003d []\nfor i,window in enumerate(windowed_acc_down):\n    std \u003d np.std(window)\n    std_devs.append(std)\n    if std \u003e 0.04:\n        potholes_by_z_stddev.append(i)\npotholes_by_z_stddev\n\n",
      "metadata": {
        "pycharm": {
          "metadata": false,
          "name": "#%%\n",
          "is_executing": false
        }
      }
    }
  ],
  "metadata": {
    "language_info": {
      "codemirror_mode": {
        "name": "ipython",
        "version": 2
      },
      "file_extension": ".py",
      "mimetype": "text/x-python",
      "name": "python",
      "nbconvert_exporter": "python",
      "pygments_lexer": "ipython2",
      "version": "2.7.6"
    },
    "kernelspec": {
      "name": "python3",
      "language": "python",
      "display_name": "Python 3"
    }
  },
  "nbformat": 4,
  "nbformat_minor": 0
}
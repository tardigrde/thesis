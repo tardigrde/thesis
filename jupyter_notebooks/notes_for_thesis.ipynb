{
  "cells": [
    {
      "cell_type": "markdown",
      "metadata": {
        "collapsed": true,
        "pycharm": {
          "name": "#%% md\n"
        }
      },
      "source": "\n- we might have to calibrate out sensor before madwgwick (use 1/500??)\n- we might want to experiment with beta (use 1)\n- apply low pass filter (20hz) before everything\n-  So our equation is [0 0 1] \u003d Rinv*A. CHECK IMUUUUUUU!!!!!!\n"
    }
  ],
  "metadata": {
    "language_info": {
      "codemirror_mode": {
        "name": "ipython",
        "version": 2
      },
      "file_extension": ".py",
      "mimetype": "text/x-python",
      "name": "python",
      "nbconvert_exporter": "python",
      "pygments_lexer": "ipython2",
      "version": "2.7.6"
    },
    "kernelspec": {
      "name": "python3",
      "language": "python",
      "display_name": "Python 3"
    }
  },
  "nbformat": 4,
  "nbformat_minor": 0
}